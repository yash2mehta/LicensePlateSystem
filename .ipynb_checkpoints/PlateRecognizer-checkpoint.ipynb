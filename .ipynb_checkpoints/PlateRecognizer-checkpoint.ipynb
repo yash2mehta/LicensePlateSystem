{
 "cells": [
  {
   "cell_type": "markdown",
   "id": "f2fe7f5a",
   "metadata": {},
   "source": [
    "## Plate Recognizer API:"
   ]
  },
  {
   "cell_type": "markdown",
   "id": "e8e1d878",
   "metadata": {},
   "source": [
    "Link for API Documentation - https://guides.platerecognizer.com/docs/snapshot/api-reference#snapshot-cloud-api\n",
    "\n",
    "Get API Token from here - https://app.platerecognizer.com/service/snapshot-cloud/"
   ]
  },
  {
   "cell_type": "markdown",
   "id": "a961bc3c",
   "metadata": {},
   "source": [
    "**Defining imports:**"
   ]
  },
  {
   "cell_type": "code",
   "execution_count": 1,
   "id": "6164b254",
   "metadata": {},
   "outputs": [],
   "source": [
    "import requests\n",
    "from pprint import pprint\n",
    "from IPython.display import JSON\n",
    "import json\n",
    "import cv2\n",
    "import os\n",
    "import random"
   ]
  },
  {
   "cell_type": "markdown",
   "id": "05d2007c",
   "metadata": {},
   "source": [
    "**Calling API:**"
   ]
  },
  {
   "cell_type": "code",
   "execution_count": 2,
   "id": "5d1cdb67",
   "metadata": {},
   "outputs": [],
   "source": [
    "def recognize_license_plate(image_path, token, regions=[\"sg\"], strict_region = True, mmc=True):\n",
    "    url = \"https://api.platerecognizer.com/v1/plate-reader/\"\n",
    "    headers = {\n",
    "        \"Authorization\": f\"Token {token}\"\n",
    "    }\n",
    "    \n",
    "    # Open the image file\n",
    "    with open(image_path, \"rb\") as fp:\n",
    "        \n",
    "        # Set up the data payload\n",
    "        data = {\n",
    "            \"regions\": regions,       # Specify relevant regions\n",
    "            \"mmc\": str(mmc).lower()   # Enable make, model, color detection if set to True\n",
    "        }\n",
    "        if strict_region:\n",
    "            data[\"config\"] = json.dumps({\"region\": \"strict\"})  # Enforce strict region matching if needed\n",
    "\n",
    "        # Send request with file upload\n",
    "        response = requests.post(url, headers=headers, files={\"upload\": fp}, data=data)\n",
    "        \n",
    "        # Check response status and print results\n",
    "        if response.status_code == 200 or response.status_code == 201:\n",
    "            pprint(response.json())\n",
    "        else:\n",
    "            print(\"Error:\", response.status_code, response.text)"
   ]
  },
  {
   "cell_type": "markdown",
   "id": "ce9c35fc",
   "metadata": {},
   "source": [
    "**Defining token for platerecognizer:**"
   ]
  },
  {
   "cell_type": "code",
   "execution_count": 3,
   "id": "e902e794",
   "metadata": {},
   "outputs": [],
   "source": [
    "token = \"210ed0449ee06e8d9bcee4a67c742814e4e7366e\""
   ]
  },
  {
   "cell_type": "markdown",
   "id": "c206ae1c",
   "metadata": {},
   "source": [
    "**Selecting entire directory of images:**"
   ]
  },
  {
   "cell_type": "code",
   "execution_count": null,
   "id": "17233235",
   "metadata": {},
   "outputs": [],
   "source": [
    "current_directory = \"selected_images\"\n",
    "\n",
    "# Get list of all image files in the folder\n",
    "image_files = [f for f in os.listdir(current_directory) if f.lower().endswith(('.jpg', '.jpeg', '.png'))]"
   ]
  },
  {
   "cell_type": "code",
   "execution_count": null,
   "id": "fc7698af",
   "metadata": {},
   "outputs": [],
   "source": [
    "print(image_files)"
   ]
  },
  {
   "cell_type": "code",
   "execution_count": null,
   "id": "cf033f3f",
   "metadata": {},
   "outputs": [],
   "source": [
    "# Results container\n",
    "results = []\n",
    "\n",
    "for image in image_files:\n",
    "    image_path = os.path.join(current_directory, image)\n",
    "    print(f\"Processing: {image}\")\n",
    "    response = recognize_license_plate(image_path, token)\n",
    "\n",
    "    if response and response['results']:\n",
    "        plate_data = response['results'][0]\n",
    "        plate = plate_data.get('plate', None)\n",
    "        vehicle = plate_data.get('vehicle', {})\n",
    "        make = vehicle.get('make', [None])[0] if vehicle.get('make') else None\n",
    "        model = vehicle.get('model', [None])[0] if vehicle.get('model') else None\n",
    "    else:\n",
    "        plate, make, model = None, None, None\n",
    "\n",
    "    results.append({\n",
    "        \"Image Number (Filename)\": image,\n",
    "        \"License Plate\": plate.upper() if plate else None,\n",
    "        \"Make\": make.title() if make else None,\n",
    "        \"Model\": model.title() if model else None\n",
    "    })"
   ]
  },
  {
   "cell_type": "code",
   "execution_count": null,
   "id": "33824e35",
   "metadata": {},
   "outputs": [],
   "source": [
    "backup_results = results\n",
    "\n",
    "print(results)"
   ]
  },
  {
   "cell_type": "code",
   "execution_count": null,
   "id": "e71c3382",
   "metadata": {},
   "outputs": [],
   "source": [
    "# Create DataFrame\n",
    "df = pd.DataFrame(results)\n",
    "\n",
    "# Save to Excel\n",
    "df.to_excel(\"recognized_plates.xlsx\", index=False)\n",
    "\n",
    "# Save to JSON\n",
    "df.to_json(\"recognized_plates.json\", orient=\"records\", indent=2)\n",
    "\n",
    "print(\"Saved results to recognized_plates.xlsx and recognized_plates.json\")"
   ]
  },
  {
   "cell_type": "markdown",
   "id": "bf2a5ec2",
   "metadata": {},
   "source": [
    "**Selecting x number of images:**"
   ]
  },
  {
   "cell_type": "code",
   "execution_count": 4,
   "id": "b44aa27b",
   "metadata": {},
   "outputs": [
    {
     "name": "stdout",
     "output_type": "stream",
     "text": [
      "['1.jpg', '10.jpg', '11.jpg', '12.jpg', '13.jpg', '14.jpg', '15.jpg', '16.jpg', '17.jpg', '18.jpg', '19.jpg', '2.jpg', '20.jpg', '21.jpg', '22.jpg', '23.jpg', '24.jpg', '25.jpg', '26.jpg', '27.jpg', '28.jpg', '29.jpg', '3.jpg', '30.jpg', '31.jpg', '32.jpg', '33.jpg', '34.jpg', '35.jpg', '36.jpg', '37.jpg', '38.jpg', '39.jpg', '4.jpg', '40.jpg', '41.jpg', '42.jpg', '43.jpg', '44.jpg', '5.jpg', '6.jpg', '7.jpg', '8.jpg', '9.jpg', 'Truth_label.xlsx', '~$Truth_label.xlsx']\n"
     ]
    }
   ],
   "source": [
    "import os\n",
    "\n",
    "# List all files and folders in the current directory\n",
    "files = os.listdir('selected_images')\n",
    "print(files)"
   ]
  },
  {
   "cell_type": "code",
   "execution_count": 11,
   "id": "2ca79297",
   "metadata": {
    "scrolled": false
   },
   "outputs": [
    {
     "name": "stdout",
     "output_type": "stream",
     "text": [
      "\n",
      "Processing: 32.jpg\n",
      "{'camera_id': None,\n",
      " 'filename': '1925_0ynF3_32.jpg',\n",
      " 'image_height': 1536,\n",
      " 'image_width': 2048,\n",
      " 'processing_time': 67.548,\n",
      " 'results': [{'box': {'xmax': 945, 'xmin': 792, 'ymax': 803, 'ymin': 705},\n",
      "              'candidates': [{'plate': 'shd2017z', 'score': 0.913}],\n",
      "              'color': [{'color': 'brown', 'score': 0.371},\n",
      "                        {'color': 'yellow', 'score': 0.247},\n",
      "                        {'color': 'silver', 'score': 0.123}],\n",
      "              'direction': 226,\n",
      "              'direction_score': 0.993,\n",
      "              'dscore': 0.815,\n",
      "              'model_make': [{'make': 'Honda', 'model': 'Jazz', 'score': 0.407},\n",
      "                             {'make': 'Honda', 'model': 'Fit', 'score': 0.156},\n",
      "                             {'make': 'generic',\n",
      "                              'model': 'Unknown',\n",
      "                              'score': 0.01}],\n",
      "              'orientation': [{'orientation': 'Front', 'score': 0.921},\n",
      "                              {'orientation': 'Rear', 'score': 0.047},\n",
      "                              {'orientation': 'Unknown', 'score': 0.032}],\n",
      "              'plate': 'shd2017z',\n",
      "              'region': {'code': 'gb', 'score': 0.151},\n",
      "              'score': 0.913,\n",
      "              'vehicle': {'box': {'xmax': 1605,\n",
      "                                  'xmin': 509,\n",
      "                                  'ymax': 934,\n",
      "                                  'ymin': 154},\n",
      "                          'score': 0.937,\n",
      "                          'type': 'Sedan'}}],\n",
      " 'timestamp': '2025-04-11T19:25:46.844965Z',\n",
      " 'version': 1}\n",
      "null\n",
      "\n",
      "Processing: 4.jpg\n",
      "{'camera_id': None,\n",
      " 'filename': '1925_VLMGp_4.jpg',\n",
      " 'image_height': 1536,\n",
      " 'image_width': 2048,\n",
      " 'processing_time': 48.758,\n",
      " 'results': [{'box': {'xmax': 1161, 'xmin': 715, 'ymax': 1036, 'ymin': 733},\n",
      "              'candidates': [{'plate': 'slw2345d', 'score': 0.997}],\n",
      "              'color': [{'color': 'white', 'score': 0.865},\n",
      "                        {'color': 'silver', 'score': 0.07},\n",
      "                        {'color': 'brown', 'score': 0.011}],\n",
      "              'direction': 260,\n",
      "              'direction_score': 0.482,\n",
      "              'dscore': 0.866,\n",
      "              'model_make': [{'make': 'Toyota',\n",
      "                              'model': 'Proace',\n",
      "                              'score': 0.208},\n",
      "                             {'make': 'generic',\n",
      "                              'model': 'Unknown',\n",
      "                              'score': 0.099}],\n",
      "              'orientation': [{'orientation': 'Front', 'score': 0.933},\n",
      "                              {'orientation': 'Rear', 'score': 0.044},\n",
      "                              {'orientation': 'Unknown', 'score': 0.023}],\n",
      "              'plate': 'slw2345d',\n",
      "              'region': {'code': 'gb', 'score': 0.02},\n",
      "              'score': 0.997,\n",
      "              'vehicle': {'box': {'xmax': 2047,\n",
      "                                  'xmin': 149,\n",
      "                                  'ymax': 1417,\n",
      "                                  'ymin': 4},\n",
      "                          'score': 0.77,\n",
      "                          'type': 'Sedan'}}],\n",
      " 'timestamp': '2025-04-11T19:25:49.532997Z',\n",
      " 'version': 1}\n",
      "null\n"
     ]
    }
   ],
   "source": [
    "# Set the path to the current directory\n",
    "current_directory = \"selected_images\"\n",
    "\n",
    "# Get a list of all image files (jpg, png, etc.) in the current directory\n",
    "image_files = [f for f in os.listdir(current_directory) if f.endswith(('.jpg', '.jpeg', '.png'))]\n",
    "\n",
    "# --- Collect results ---\n",
    "results = []\n",
    "\n",
    "# Choose x random images from the list\n",
    "random_images = random.sample(image_files, 2)\n",
    "\n",
    "# Call the function for each selected image\n",
    "for image in random_images:\n",
    "    image_path = os.path.join(current_directory, image)\n",
    "    print(f\"\\nProcessing: {image}\")\n",
    "    response = recognize_license_plate(image_path, token)\n",
    "    \n",
    "    print(json.dumps(response, indent=2))  # Add this just after the API call\n",
    "    \n",
    "    plate = make = model = None\n",
    "\n",
    "    if response and response.get(\"results\"):\n",
    "        result = response[\"results\"][0]\n",
    "        plate = result.get(\"plate\", None)\n",
    "\n",
    "        if \"model_make\" in result and result[\"model_make\"]:\n",
    "            make = result[\"model_make\"][0].get(\"make\", None)\n",
    "            model = result[\"model_make\"][0].get(\"model\", None)\n",
    "\n",
    "    results.append({\n",
    "        \"Image Number (Filename)\": image,\n",
    "        \"License Plate\": plate.upper() if plate else None,\n",
    "        \"Make\": make.title() if make else None,\n",
    "        \"Model\": model.title() if model else None\n",
    "    })"
   ]
  },
  {
   "cell_type": "code",
   "execution_count": 9,
   "id": "8f411842",
   "metadata": {},
   "outputs": [
    {
     "name": "stdout",
     "output_type": "stream",
     "text": [
      "[{'Image Number (Filename)': '30.jpg', 'License Plate': None, 'Make': None, 'Model': None}, {'Image Number (Filename)': '10.jpg', 'License Plate': None, 'Make': None, 'Model': None}]\n"
     ]
    }
   ],
   "source": [
    "print(results)"
   ]
  },
  {
   "cell_type": "code",
   "execution_count": 10,
   "id": "9362cf58",
   "metadata": {},
   "outputs": [
    {
     "name": "stdout",
     "output_type": "stream",
     "text": [
      "null\n"
     ]
    }
   ],
   "source": []
  },
  {
   "cell_type": "code",
   "execution_count": null,
   "id": "3c59524d",
   "metadata": {},
   "outputs": [],
   "source": [
    "# --- Convert results to DataFrame ---\n",
    "df = pd.DataFrame(results)"
   ]
  },
  {
   "cell_type": "code",
   "execution_count": null,
   "id": "b8b291e7",
   "metadata": {},
   "outputs": [],
   "source": [
    "# --- Save to Excel and JSON ---\n",
    "df.to_excel(\"recognized_plates.xlsx\", index=False)\n",
    "df.to_json(\"recognized_plates.json\", orient=\"records\", indent=2)\n",
    "\n",
    "print(\"\\n✅ Results saved to recognized_plates.xlsx and recognized_plates.json\")"
   ]
  }
 ],
 "metadata": {
  "kernelspec": {
   "display_name": "Python 3 (ipykernel)",
   "language": "python",
   "name": "python3"
  },
  "language_info": {
   "codemirror_mode": {
    "name": "ipython",
    "version": 3
   },
   "file_extension": ".py",
   "mimetype": "text/x-python",
   "name": "python",
   "nbconvert_exporter": "python",
   "pygments_lexer": "ipython3",
   "version": "3.10.13"
  }
 },
 "nbformat": 4,
 "nbformat_minor": 5
}
